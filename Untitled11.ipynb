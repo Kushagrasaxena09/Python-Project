{
 "cells": [
  {
   "cell_type": "code",
   "execution_count": 11,
   "id": "338b3bc1",
   "metadata": {},
   "outputs": [
    {
     "name": "stdout",
     "output_type": "stream",
     "text": [
      "Enter a stock symbol (e.g., AAPL): TATA\n",
      "No data available for the entered stock symbol.\n"
     ]
    }
   ],
   "source": [
    "import requests\n",
    "\n",
    "# Replace 'YOUR_API_KEY' with your actual Alpha Vantage API key\n",
    "API_KEY = 'YOUR_API_KEY'\n",
    "\n",
    "def get_stock_data(symbol):\n",
    "    base_url = 'https://www.alphavantage.co/query'\n",
    "    params = {\n",
    "        'function': 'TIME_SERIES_INTRADAY',\n",
    "        'symbol': symbol,\n",
    "        'interval': '1min',\n",
    "        'apikey': API_KEY,\n",
    "    }\n",
    "\n",
    "    response = requests.get(base_url, params=params)\n",
    "\n",
    "    if response.status_code == 200:\n",
    "        data = response.json()\n",
    "        return data\n",
    "    else:\n",
    "        print(f\"Failed to retrieve data. Status code: {response.status_code}\")\n",
    "        return None\n",
    "\n",
    "def display_stock_data(data):\n",
    "    if data and 'Meta Data' in data:\n",
    "        metadata = data['Meta Data']\n",
    "        print(f\"Symbol: {metadata['2. Symbol']}\")\n",
    "        print(f\"Last Refreshed: {metadata['3. Last Refreshed']}\")\n",
    "        \n",
    "        time_series = data['Time Series (1min)']\n",
    "        latest_timestamp = list(time_series.keys())[0]\n",
    "        latest_data = time_series[latest_timestamp]\n",
    "        \n",
    "        print(\"Latest Data:\")\n",
    "        print(f\"Open: {latest_data['1. open']}\")\n",
    "        print(f\"High: {latest_data['2. high']}\")\n",
    "        print(f\"Low: {latest_data['3. low']}\")\n",
    "        print(f\"Close: {latest_data['4. close']}\")\n",
    "        print(f\"Volume: {latest_data['5. volume']}\")\n",
    "    else:\n",
    "        print(\"No data available for the entered stock symbol.\")\n",
    "\n",
    "if __name__ == \"__main__\":\n",
    "    symbol = input(\"Enter a stock symbol (e.g., AAPL): \")\n",
    "    stock_data = get_stock_data(symbol)\n",
    "    display_stock_data(stock_data)\n"
   ]
  }
 ],
 "metadata": {
  "kernelspec": {
   "display_name": "Python 3 (ipykernel)",
   "language": "python",
   "name": "python3"
  },
  "language_info": {
   "codemirror_mode": {
    "name": "ipython",
    "version": 3
   },
   "file_extension": ".py",
   "mimetype": "text/x-python",
   "name": "python",
   "nbconvert_exporter": "python",
   "pygments_lexer": "ipython3",
   "version": "3.10.9"
  }
 },
 "nbformat": 4,
 "nbformat_minor": 5
}
