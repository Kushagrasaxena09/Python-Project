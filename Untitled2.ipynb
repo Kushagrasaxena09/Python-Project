{
 "cells": [
  {
   "cell_type": "code",
   "execution_count": 2,
   "id": "faacd84c",
   "metadata": {},
   "outputs": [],
   "source": [
    "from PIL import Image\n"
   ]
  },
  {
   "cell_type": "code",
   "execution_count": 3,
   "id": "cf2b36be",
   "metadata": {},
   "outputs": [],
   "source": [
    "from IPython.display import display"
   ]
  },
  {
   "cell_type": "code",
   "execution_count": 4,
   "id": "5d8b4b7f",
   "metadata": {},
   "outputs": [],
   "source": [
    "outfit_recommendations = {\n",
    "    'top': ['red_tshirt.jpg', 'blue_shirt.jpg', 'white_blouse.jpg'],\n",
    "    'bottom': ['jeans.jpg', 'black_skirt.jpg', 'khaki_pants.jpg'],\n",
    "    'shoes': ['sneakers.jpg', 'black_boots.jpg', 'heels.jpg']\n",
    "}"
   ]
  },
  {
   "cell_type": "code",
   "execution_count": null,
   "id": "046a9b32",
   "metadata": {},
   "outputs": [],
   "source": [
    "import random\n",
    "\n",
    "def display_outfit(category):\n",
    "    options = outfit_recommendations.get(category, [])\n",
    "    if options:\n",
    "        outfit = random.choice(options)\n",
    "        image_path = f'outfit_images/{outfit}'  # Path to the image folder\n",
    "        image = Image.open(image_path)\n",
    "        display(image)\n",
    "    else:\n",
    "        print(f\"No outfit options found for category: {category}\")"
   ]
  }
 ],
 "metadata": {
  "kernelspec": {
   "display_name": "Python 3 (ipykernel)",
   "language": "python",
   "name": "python3"
  },
  "language_info": {
   "codemirror_mode": {
    "name": "ipython",
    "version": 3
   },
   "file_extension": ".py",
   "mimetype": "text/x-python",
   "name": "python",
   "nbconvert_exporter": "python",
   "pygments_lexer": "ipython3",
   "version": "3.10.9"
  }
 },
 "nbformat": 4,
 "nbformat_minor": 5
}
