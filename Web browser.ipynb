{
 "cells": [
  {
   "cell_type": "code",
   "execution_count": 2,
   "id": "a71a606d",
   "metadata": {},
   "outputs": [
    {
     "name": "stdout",
     "output_type": "stream",
     "text": [
      "Requirement already satisfied: PyQt5 in c:\\users\\lenovo\\anaconda3\\lib\\site-packages (5.15.7)\n",
      "Requirement already satisfied: PyQtWebEngine in c:\\users\\lenovo\\anaconda3\\lib\\site-packages (5.15.4)\n",
      "Requirement already satisfied: PyQt5-sip<13,>=12.11 in c:\\users\\lenovo\\anaconda3\\lib\\site-packages (from PyQt5) (12.11.0)\n",
      "Note: you may need to restart the kernel to use updated packages.\n"
     ]
    }
   ],
   "source": [
    "pip install PyQt5 PyQtWebEngine\n"
   ]
  },
  {
   "cell_type": "code",
   "execution_count": null,
   "id": "bd4cbc70",
   "metadata": {},
   "outputs": [],
   "source": [
    "import sys\n",
    "from PyQt5.QtCore import *\n",
    "from PyQt5.QtWidgets import *\n",
    "from PyQt5.QtWebEngineWidgets import *\n",
    "\n",
    "class WebBrowser(QMainWindow):\n",
    "    def __init__(self):\n",
    "        super().__init__()\n",
    "\n",
    "        self.browser = QWebEngineView()\n",
    "        self.browser.setUrl(QUrl(\"https://www.google.com\"))\n",
    "        self.setCentralWidget(self.browser)\n",
    "        self.showMaximized()\n",
    "\n",
    "        nav_bar = QToolBar()\n",
    "        self.addToolBar(nav_bar)\n",
    "\n",
    "        back_btn = QAction(\"Back\", self)\n",
    "        back_btn.triggered.connect(self.browser.back)\n",
    "        nav_bar.addAction(back_btn)\n",
    "\n",
    "        forward_btn = QAction(\"Forward\", self)\n",
    "        forward_btn.triggered.connect(self.browser.forward)\n",
    "        nav_bar.addAction(forward_btn)\n",
    "\n",
    "        reload_btn = QAction(\"Reload\", self)\n",
    "        reload_btn.triggered.connect(self.browser.reload)\n",
    "        nav_bar.addAction(reload_btn)\n",
    "\n",
    "        home_btn = QAction(\"Home\", self)\n",
    "        home_btn.triggered.connect(self.navigate_home)\n",
    "        nav_bar.addAction(home_btn)\n",
    "\n",
    "        self.url_bar = QLineEdit()\n",
    "        self.url_bar.returnPressed.connect(self.navigate_to_url)\n",
    "        nav_bar.addWidget(self.url_bar)\n",
    "\n",
    "        self.browser.urlChanged.connect(self.update_url)\n",
    "\n",
    "    def navigate_home(self):\n",
    "        self.browser.setUrl(QUrl(\"https://www.google.com\"))\n",
    "\n",
    "    def navigate_to_url(self):\n",
    "        url = self.url_bar.text()\n",
    "        self.browser.setUrl(QUrl(url))\n",
    "\n",
    "    def update_url(self, q):\n",
    "        self.url_bar.setText(q.toString())\n",
    "\n",
    "app = QApplication(sys.argv)\n",
    "QApplication.setApplicationName(\"COBRA\")\n",
    "window = WebBrowser()\n",
    "app.exec_()\n"
   ]
  }
 ],
 "metadata": {
  "kernelspec": {
   "display_name": "Python 3 (ipykernel)",
   "language": "python",
   "name": "python3"
  },
  "language_info": {
   "codemirror_mode": {
    "name": "ipython",
    "version": 3
   },
   "file_extension": ".py",
   "mimetype": "text/x-python",
   "name": "python",
   "nbconvert_exporter": "python",
   "pygments_lexer": "ipython3",
   "version": "3.10.9"
  }
 },
 "nbformat": 4,
 "nbformat_minor": 5
}
