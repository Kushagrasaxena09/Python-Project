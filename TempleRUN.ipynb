{
 "cells": [
  {
   "cell_type": "code",
   "execution_count": 1,
   "id": "493a2b33",
   "metadata": {},
   "outputs": [
    {
     "name": "stdout",
     "output_type": "stream",
     "text": [
      "Requirement already satisfied: pygame in c:\\users\\hp\\anaconda3\\lib\\site-packages (2.5.2)\n",
      "Note: you may need to restart the kernel to use updated packages.\n"
     ]
    }
   ],
   "source": [
    "pip install pygame\n"
   ]
  },
  {
   "cell_type": "code",
   "execution_count": 2,
   "id": "e1df6788",
   "metadata": {},
   "outputs": [
    {
     "name": "stdout",
     "output_type": "stream",
     "text": [
      "Requirement already satisfied: PyOpenGL in c:\\users\\hp\\anaconda3\\lib\\site-packages (3.1.7)\n",
      "Note: you may need to restart the kernel to use updated packages.\n"
     ]
    }
   ],
   "source": [
    "pip install PyOpenGL"
   ]
  },
  {
   "cell_type": "code",
   "execution_count": 4,
   "id": "7f11f99d",
   "metadata": {},
   "outputs": [
    {
     "name": "stdout",
     "output_type": "stream",
     "text": [
      "pygame 2.5.2 (SDL 2.28.3, Python 3.11.4)\n",
      "Hello from the pygame community. https://www.pygame.org/contribute.html\n"
     ]
    },
    {
     "ename": "error",
     "evalue": "video system not initialized",
     "output_type": "error",
     "traceback": [
      "\u001b[1;31m---------------------------------------------------------------------------\u001b[0m",
      "\u001b[1;31merror\u001b[0m                                     Traceback (most recent call last)",
      "Cell \u001b[1;32mIn[4], line 81\u001b[0m\n\u001b[0;32m     78\u001b[0m         pygame\u001b[38;5;241m.\u001b[39mquit()\n\u001b[0;32m     79\u001b[0m         quit()\n\u001b[1;32m---> 81\u001b[0m keys \u001b[38;5;241m=\u001b[39m pygame\u001b[38;5;241m.\u001b[39mkey\u001b[38;5;241m.\u001b[39mget_pressed()\n\u001b[0;32m     82\u001b[0m \u001b[38;5;28;01mif\u001b[39;00m keys[K_LEFT]:\n\u001b[0;32m     83\u001b[0m     player_x \u001b[38;5;241m-\u001b[39m\u001b[38;5;241m=\u001b[39m speed\n",
      "\u001b[1;31merror\u001b[0m: video system not initialized"
     ]
    }
   ],
   "source": [
    "import pygame\n",
    "from pygame.locals import *\n",
    "from OpenGL.GL import *\n",
    "import random\n",
    "\n",
    "# Initialize Pygame and PyOpenGL\n",
    "pygame.init()\n",
    "width, height = 800, 600\n",
    "pygame.display.set_mode((width, height), DOUBLEBUF | OPENGL)\n",
    "\n",
    "# Set up perspective projection\n",
    "glMatrixMode(GL_PROJECTION)\n",
    "glLoadIdentity()\n",
    "glFrustum(-1, 1, -1, 1, 0.1, 50.0)\n",
    "glMatrixMode(GL_MODELVIEW)\n",
    "glTranslatef(0.0, 0.0, -5)\n",
    "\n",
    "# Define cube vertices\n",
    "vertices = [\n",
    "    (-0.5, -0.5, -0.5),\n",
    "    (0.5, -0.5, -0.5),\n",
    "    (0.5, 0.5, -0.5),\n",
    "    (-0.5, 0.5, -0.5),\n",
    "    (-0.5, -0.5, 0.5),\n",
    "    (0.5, -0.5, 0.5),\n",
    "    (0.5, 0.5, 0.5),\n",
    "    (-0.5, 0.5, 0.5)\n",
    "]\n",
    "\n",
    "# Define cube edges (vertices used to create edges)\n",
    "edges = [\n",
    "    (0, 1),\n",
    "    (1, 2),\n",
    "    (2, 3),\n",
    "    (3, 0),\n",
    "    (4, 5),\n",
    "    (5, 6),\n",
    "    (6, 7),\n",
    "    (7, 4),\n",
    "    (0, 4),\n",
    "    (1, 5),\n",
    "    (2, 6),\n",
    "    (3, 7)\n",
    "]\n",
    "\n",
    "# Initial player position\n",
    "player_x, player_y, player_z = 0, 0, 0\n",
    "speed = 0.1\n",
    "\n",
    "# Obstacle settings\n",
    "obstacle_speed = 0.05\n",
    "obstacle_x = random.uniform(-2, 2)\n",
    "obstacle_y = 2\n",
    "obstacle_z = -10\n",
    "\n",
    "def draw_cube():\n",
    "    glBegin(GL_LINES)\n",
    "    for edge in edges:\n",
    "        for vertex in edge:\n",
    "            glVertex3fv(vertices[vertex])\n",
    "    glEnd()\n",
    "\n",
    "def check_collision():\n",
    "    global player_x, player_y, player_z, obstacle_x, obstacle_y, obstacle_z\n",
    "\n",
    "    if (\n",
    "        player_x + 0.5 >= obstacle_x - 0.5 and player_x - 0.5 <= obstacle_x + 0.5 and\n",
    "        player_y + 0.5 >= obstacle_y - 0.5 and player_y - 0.5 <= obstacle_y + 0.5 and\n",
    "        player_z + 0.5 >= obstacle_z - 0.5 and player_z - 0.5 <= obstacle_z + 0.5\n",
    "    ):\n",
    "        return True\n",
    "    return False\n",
    "\n",
    "# Main game loop\n",
    "while True:\n",
    "    for event in pygame.event.get():\n",
    "        if event.type == pygame.QUIT:\n",
    "            pygame.quit()\n",
    "            quit()\n",
    "\n",
    "    keys = pygame.key.get_pressed()\n",
    "    if keys[K_LEFT]:\n",
    "        player_x -= speed\n",
    "    if keys[K_RIGHT]:\n",
    "        player_x += speed\n",
    "    if keys[K_UP]:\n",
    "        player_y += speed\n",
    "    if keys[K_DOWN]:\n",
    "        player_y -= speed\n",
    "\n",
    "    obstacle_z += obstacle_speed\n",
    "\n",
    "    glClear(GL_COLOR_BUFFER_BIT | GL_DEPTH_BUFFER_BIT)\n",
    "    draw_cube()\n",
    "\n",
    "    if obstacle_z > 5:\n",
    "        obstacle_x = random.uniform(-2, 2)\n",
    "        obstacle_z = -10\n",
    "\n",
    "    if check_collision():\n",
    "        print(\"Game Over - Collision Detected\")\n",
    "        pygame.quit()\n",
    "        quit()\n",
    "\n",
    "    glLoadIdentity()\n",
    "    glTranslatef(player_x, player_y, player_z)\n",
    "\n",
    "    pygame.display.flip()\n",
    "    pygame.time.wait(10)\n"
   ]
  },
  {
   "cell_type": "code",
   "execution_count": null,
   "id": "48f663b8",
   "metadata": {},
   "outputs": [],
   "source": []
  }
 ],
 "metadata": {
  "kernelspec": {
   "display_name": "Python 3 (ipykernel)",
   "language": "python",
   "name": "python3"
  },
  "language_info": {
   "codemirror_mode": {
    "name": "ipython",
    "version": 3
   },
   "file_extension": ".py",
   "mimetype": "text/x-python",
   "name": "python",
   "nbconvert_exporter": "python",
   "pygments_lexer": "ipython3",
   "version": "3.11.4"
  }
 },
 "nbformat": 4,
 "nbformat_minor": 5
}
