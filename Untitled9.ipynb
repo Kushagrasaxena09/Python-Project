{
 "cells": [
  {
   "cell_type": "markdown",
   "id": "6bb63cc7",
   "metadata": {},
   "source": [
    "# Practice"
   ]
  },
  {
   "cell_type": "code",
   "execution_count": 4,
   "id": "bdba6a4d",
   "metadata": {},
   "outputs": [
    {
     "name": "stdout",
     "output_type": "stream",
     "text": [
      "Common Element: [1, 2, 6]\n"
     ]
    }
   ],
   "source": [
    "def find_common_element(list1,list2):\n",
    "    common_element=[element for element in list1 if element in list2]\n",
    "    return common_element\n",
    "list1=[1,2,5,6,4]\n",
    "list2=[1,2,8,9,6]\n",
    "\n",
    "common_element=find_common_element(list1,list2)\n",
    "print(\"Common Element:\",common_element)\n"
   ]
  },
  {
   "cell_type": "code",
   "execution_count": 8,
   "id": "d91e5bc8",
   "metadata": {},
   "outputs": [
    {
     "name": "stdout",
     "output_type": "stream",
     "text": [
      "Enter String one:man\n",
      "Enter String two:mango\n",
      "Yes\n"
     ]
    }
   ],
   "source": [
    "def is_substring(substring,string):\n",
    "    if substring in string:\n",
    "        return 'Yes'\n",
    "    else:\n",
    "        return 'no'\n",
    "\n",
    "string1=input(\"Enter String one:\")\n",
    "string2=input(\"Enter String two:\")\n",
    "\n",
    "result=is_substring(string1,string2)\n",
    "print(result)\n"
   ]
  },
  {
   "cell_type": "code",
   "execution_count": 16,
   "id": "658fe99e",
   "metadata": {},
   "outputs": [
    {
     "name": "stdout",
     "output_type": "stream",
     "text": [
      "Unique Element: [1, 2, 3, 4, 5, 6, 7, 8, 9, 10, 11, 12, 13, 14]\n"
     ]
    }
   ],
   "source": [
    "def find_unique_element(list1,list2):\n",
    "    set1=set(list1)\n",
    "    set2=set(list2)\n",
    "    unique_element=list(set1|set2)\n",
    "    return unique_element\n",
    "list1=[1,2,3,4,5,6,7]\n",
    "list2=[8,9,10,11,12,13,14]\n",
    "unique_element=find_unique_element(list1,list2)\n",
    "print(\"Unique Element:\",unique_element)\n",
    "\n",
    "    "
   ]
  },
  {
   "cell_type": "code",
   "execution_count": 34,
   "id": "456932b1",
   "metadata": {},
   "outputs": [
    {
     "name": "stdout",
     "output_type": "stream",
     "text": [
      "dragonfuit\n"
     ]
    }
   ],
   "source": [
    "def find_longest_string(strings):\n",
    "    longest=\"\"\n",
    "    for string in strings:\n",
    "        if len(string)>len(longest):\n",
    "            longest=string\n",
    "    return longest\n",
    "string_list=[\"apple\",\"banana\",\"guava\",\"dragonfuit\"]\n",
    "        \n",
    "longest_string=find_longest_string(string_list)\n",
    "print(longest_string)"
   ]
  },
  {
   "cell_type": "code",
   "execution_count": 42,
   "id": "9216cc44",
   "metadata": {},
   "outputs": [
    {
     "name": "stdout",
     "output_type": "stream",
     "text": [
      "{'guava', 'apple'}\n"
     ]
    }
   ],
   "source": [
    "def filter_string_by_length(input_set):\n",
    "    filtered_set=set()\n",
    "    for string in input_set:\n",
    "        if len(string)<=5:\n",
    "            filtered_set.add(string)\n",
    "    return filtered_set\n",
    "input_set={\"apple\",\"banana\",\"guava\",\"dragonfuit\"}\n",
    "\n",
    "filtered_strings=filter_string_by_length(input_set)\n",
    "print(filtered_strings)"
   ]
  },
  {
   "cell_type": "code",
   "execution_count": 44,
   "id": "e3caab75",
   "metadata": {},
   "outputs": [
    {
     "name": "stdout",
     "output_type": "stream",
     "text": [
      "{1, 3, 5, 7, 9}\n"
     ]
    }
   ],
   "source": [
    "def filter_odd_number(input_set):\n",
    "    odd_number_set=set()\n",
    "    for number in input_set:\n",
    "        if number%2!=0:\n",
    "            odd_number_set.add(number)\n",
    "    return odd_number_set\n",
    "input_set={1,2,3,4,5,6,7,8,9,10}\n",
    "filtered_number=filter_odd_number(input_set)\n",
    "print(filtered_number)"
   ]
  },
  {
   "cell_type": "code",
   "execution_count": 46,
   "id": "94cdab35",
   "metadata": {},
   "outputs": [
    {
     "name": "stdout",
     "output_type": "stream",
     "text": [
      "3\n"
     ]
    }
   ],
   "source": [
    "def find_key_with_max_value(input_dict):\n",
    "    if not input_dict:\n",
    "        return None\n",
    "    max_key=None\n",
    "    max_value=float('-inf')\n",
    "    for key,value in input_dict.items():\n",
    "        if value>max_value:\n",
    "            max_key=key\n",
    "            max_value=value\n",
    "        return max_value\n",
    "input_dict={\"apple\":3,\"banana\":2,\"cherry\":1}\n",
    "\n",
    "key_value=find_key_with_max_value(input_dict)\n",
    "print(key_value)"
   ]
  },
  {
   "cell_type": "code",
   "execution_count": 3,
   "id": "01a2fc05",
   "metadata": {},
   "outputs": [
    {
     "name": "stdout",
     "output_type": "stream",
     "text": [
      "{1, 4, 5, 6, 7, 8, 9}\n"
     ]
    }
   ],
   "source": [
    "def find_element_in_one_set(input_set1,input_set2):\n",
    "    Unique=(set1^set2)\n",
    "    return Unique\n",
    "\n",
    "set1={1,2,3,4,5,6}\n",
    "set2={2,3,7,8,9}\n",
    "\n",
    "Unique=find_element_in_one_set(set1,set2)\n",
    "print(Unique)\n",
    "    "
   ]
  },
  {
   "cell_type": "code",
   "execution_count": 8,
   "id": "ee725c16",
   "metadata": {},
   "outputs": [
    {
     "ename": "NameError",
     "evalue": "name 'd' is not defined",
     "output_type": "error",
     "traceback": [
      "\u001b[1;31m---------------------------------------------------------------------------\u001b[0m",
      "\u001b[1;31mNameError\u001b[0m                                 Traceback (most recent call last)",
      "Cell \u001b[1;32mIn[8], line 11\u001b[0m\n\u001b[0;32m      9\u001b[0m key_to_filtered\u001b[38;5;241m=\u001b[39m\u001b[38;5;124m\"\u001b[39m\u001b[38;5;124mage\u001b[39m\u001b[38;5;124m\"\u001b[39m\n\u001b[0;32m     10\u001b[0m value_to_filtered\u001b[38;5;241m=\u001b[39m\u001b[38;5;241m25\u001b[39m\n\u001b[1;32m---> 11\u001b[0m filtered_list\u001b[38;5;241m=\u001b[39m\u001b[43mfilter_dictionay_by_key_value\u001b[49m\u001b[43m(\u001b[49m\u001b[43mlist_input\u001b[49m\u001b[43m,\u001b[49m\u001b[43mkey_to_filtered\u001b[49m\u001b[43m,\u001b[49m\u001b[43mvalue_to_filtered\u001b[49m\u001b[43m)\u001b[49m\n\u001b[0;32m     12\u001b[0m \u001b[38;5;28mprint\u001b[39m(filtered_list)\n",
      "Cell \u001b[1;32mIn[8], line 2\u001b[0m, in \u001b[0;36mfilter_dictionay_by_key_value\u001b[1;34m(input_list, key, value)\u001b[0m\n\u001b[0;32m      1\u001b[0m \u001b[38;5;28;01mdef\u001b[39;00m \u001b[38;5;21mfilter_dictionay_by_key_value\u001b[39m(input_list,key,value):\n\u001b[1;32m----> 2\u001b[0m     filtered_list\u001b[38;5;241m=\u001b[39m[d \u001b[38;5;28;01mfor\u001b[39;00m d \u001b[38;5;129;01min\u001b[39;00m input_list \u001b[38;5;129;01min\u001b[39;00m \u001b[43md\u001b[49m\u001b[38;5;241m.\u001b[39mget(key)\u001b[38;5;241m==\u001b[39mvalue]\n\u001b[0;32m      3\u001b[0m     \u001b[38;5;28;01mreturn\u001b[39;00m filtered_list\n",
      "\u001b[1;31mNameError\u001b[0m: name 'd' is not defined"
     ]
    }
   ],
   "source": [
    "def filter_dictionay_by_key_value(input_list,key,value):\n",
    "    filtered_list=[d for d in input_list in d.get(key)==value]\n",
    "    return filtered_list\n",
    "list_input=[\n",
    "    {'mame':'kushagra',\"age\":25}, \n",
    "    {\"name\":\"Bob\",\"age\":30},\n",
    "    {\"name\":\"Charlie\",\"age\":35},\n",
    "    ]\n",
    "key_to_filtered=\"age\"\n",
    "value_to_filtered=25\n",
    "filtered_list=filter_dictionay_by_key_value(list_input,key_to_filtered,value_to_filtered)\n",
    "print(filtered_list)"
   ]
  }
 ],
 "metadata": {
  "kernelspec": {
   "display_name": "Python 3 (ipykernel)",
   "language": "python",
   "name": "python3"
  },
  "language_info": {
   "codemirror_mode": {
    "name": "ipython",
    "version": 3
   },
   "file_extension": ".py",
   "mimetype": "text/x-python",
   "name": "python",
   "nbconvert_exporter": "python",
   "pygments_lexer": "ipython3",
   "version": "3.10.9"
  }
 },
 "nbformat": 4,
 "nbformat_minor": 5
}
