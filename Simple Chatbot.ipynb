{
 "cells": [
  {
   "cell_type": "code",
   "execution_count": null,
   "id": "52114690",
   "metadata": {},
   "outputs": [
    {
     "name": "stdout",
     "output_type": "stream",
     "text": [
      "Phoenix: Hello! I'm a chatbot. How can I assist you today?\n",
      "You: hello\n",
      "Phoenix: Hey!\n",
      "You: how are you\n",
      "Phoenix: I'm just a chatbot.\n",
      "You: bye\n",
      "Phoenix: Goodbye!\n"
     ]
    }
   ],
   "source": [
    "import random\n",
    "\n",
    "class SimpleChatbot:\n",
    "    def __init__(self):\n",
    "        self.responses = {\n",
    "            \"hello\": [\"Hello!\", \"Hi there!\", \"Hey!\"],\n",
    "            \"how are you\": [\"I'm just a chatbot.\", \"I don't have feelings, but I'm here to help!\"],\n",
    "            \"bye\": [\"Goodbye!\", \"See you later!\", \"Take care!\"]\n",
    "        }\n",
    "\n",
    "    def get_response(self, user_input):\n",
    "        user_input = user_input.lower()\n",
    "        \n",
    "        for keyword in self.responses:\n",
    "            if keyword in user_input:\n",
    "                return random.choice(self.responses[keyword])\n",
    "        \n",
    "        return \"I'm not sure how to respond to that.\"\n",
    "\n",
    "if __name__ == \"__main__\":\n",
    "    chatbot = SimpleChatbot()\n",
    "\n",
    "    print(\"Phoenix: Hello! I'm a chatbot. How can I assist you today?\")\n",
    "    while True:\n",
    "        user_input = input(\"You: \")\n",
    "        if user_input.lower() == \"exit\":\n",
    "            print(\"Phoenix: Goodbye!\")\n",
    "            break\n",
    "        response = chatbot.get_response(user_input)\n",
    "        print(\"Phoenix:\", response)\n"
   ]
  },
  {
   "cell_type": "code",
   "execution_count": null,
   "id": "9404ce45",
   "metadata": {},
   "outputs": [],
   "source": []
  }
 ],
 "metadata": {
  "kernelspec": {
   "display_name": "Python 3 (ipykernel)",
   "language": "python",
   "name": "python3"
  },
  "language_info": {
   "codemirror_mode": {
    "name": "ipython",
    "version": 3
   },
   "file_extension": ".py",
   "mimetype": "text/x-python",
   "name": "python",
   "nbconvert_exporter": "python",
   "pygments_lexer": "ipython3",
   "version": "3.10.9"
  }
 },
 "nbformat": 4,
 "nbformat_minor": 5
}
