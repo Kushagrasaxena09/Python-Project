{
 "cells": [
  {
   "cell_type": "code",
   "execution_count": 4,
   "id": "2ce1384c",
   "metadata": {},
   "outputs": [],
   "source": [
    "import tkinter as tk\n",
    "\n",
    "# Create a function to be called when the button is clicked\n",
    "def on_button_click():\n",
    "    label.config(text=\"Button Clicked!\")\n",
    "\n",
    "# Create a main window\n",
    "root = tk.Tk()\n",
    "root.title(\"Tkinter Example\")\n",
    "\n",
    "# Create a label widget\n",
    "label = tk.Label(root, text=\"Hello, Tkinter!\")\n",
    "\n",
    "# Create a button widget\n",
    "button = tk.Button(root, text=\"Submit\", command=on_button_click)\n",
    "button = tk.Button(root, text=\"Reset\", command=on_button_click)\n",
    "\n",
    "# Pack the label and button widgets into the main window\n",
    "label.pack()\n",
    "button.pack()\n",
    "\n",
    "# Start the Tkinter main loop\n",
    "root.mainloop()\n"
   ]
  },
  {
   "cell_type": "code",
   "execution_count": null,
   "id": "49be99ca",
   "metadata": {},
   "outputs": [],
   "source": []
  }
 ],
 "metadata": {
  "kernelspec": {
   "display_name": "Python 3 (ipykernel)",
   "language": "python",
   "name": "python3"
  },
  "language_info": {
   "codemirror_mode": {
    "name": "ipython",
    "version": 3
   },
   "file_extension": ".py",
   "mimetype": "text/x-python",
   "name": "python",
   "nbconvert_exporter": "python",
   "pygments_lexer": "ipython3",
   "version": "3.11.4"
  }
 },
 "nbformat": 4,
 "nbformat_minor": 5
}
