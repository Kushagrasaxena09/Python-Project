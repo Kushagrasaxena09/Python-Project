{
 "cells": [
  {
   "cell_type": "code",
   "execution_count": 3,
   "id": "ab73ad4f",
   "metadata": {
    "scrolled": true
   },
   "outputs": [
    {
     "name": "stdout",
     "output_type": "stream",
     "text": [
      "Iris image saved to iris_image.jpg\n"
     ]
    }
   ],
   "source": [
    "import cv2\n",
    "\n",
    "# Initialize the webcam\n",
    "cap = cv2.VideoCapture(0)\n",
    "\n",
    "# Check if the webcam is opened successfully\n",
    "if not cap.isOpened():\n",
    "    print(\"Error: Could not open the webcam.\")\n",
    "    exit()\n",
    "\n",
    "# Capture a frame from the webcam\n",
    "ret, frame = cap.read()\n",
    "\n",
    "if not ret:\n",
    "    print(\"Error: Could not capture a frame from the webcam.\")\n",
    "    exit()\n",
    "\n",
    "# Save the captured frame as an image file (e.g., iris_image.jpg)\n",
    "image_path = 'iris_image.jpg'\n",
    "cv2.imwrite(image_path, frame)\n",
    "\n",
    "# Release the webcam\n",
    "cap.release()\n",
    "\n",
    "print(f\"Iris image saved to {image_path}\")\n"
   ]
  }
 ],
 "metadata": {
  "kernelspec": {
   "display_name": "Python 3 (ipykernel)",
   "language": "python",
   "name": "python3"
  },
  "language_info": {
   "codemirror_mode": {
    "name": "ipython",
    "version": 3
   },
   "file_extension": ".py",
   "mimetype": "text/x-python",
   "name": "python",
   "nbconvert_exporter": "python",
   "pygments_lexer": "ipython3",
   "version": "3.10.9"
  }
 },
 "nbformat": 4,
 "nbformat_minor": 5
}
