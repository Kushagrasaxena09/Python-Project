{
 "cells": [
  {
   "cell_type": "code",
   "execution_count": 2,
   "id": "91a876df",
   "metadata": {},
   "outputs": [
    {
     "name": "stdout",
     "output_type": "stream",
     "text": [
      "Speak the passphrase to unlock:\n",
      "Sorry, I couldn't understand what you said.\n",
      "Speak the passphrase to unlock:\n",
      "You said: sorry I could not understand what you said speak the place to unlock cool\n",
      "Access denied. Incorrect passphrase.\n",
      "Speak the passphrase to unlock:\n",
      "You said: cool\n",
      "Access granted. Security lock is unlocked.\n"
     ]
    }
   ],
   "source": [
    "import speech_recognition as sr\n",
    "\n",
    "# Function to recognize and verify the passphrase\n",
    "def recognize_passphrase():\n",
    "    recognizer = sr.Recognizer()\n",
    "    with sr.Microphone() as source:\n",
    "        print(\"Speak the passphrase to unlock:\")\n",
    "        audio = recognizer.listen(source)\n",
    "\n",
    "    try:\n",
    "        # Recognize speech using Google Web Speech API\n",
    "        text = recognizer.recognize_google(audio)\n",
    "        print(\"You said: \" + text)\n",
    "\n",
    "        # Replace \"YOUR_PASSPHRASE\" with your desired passphrase\n",
    "        if text.lower() == \"cool\":\n",
    "            print(\"Access granted. Security lock is unlocked.\")\n",
    "            return True\n",
    "        else:\n",
    "            print(\"Access denied. Incorrect passphrase.\")\n",
    "            return False\n",
    "\n",
    "    except sr.UnknownValueError:\n",
    "        print(\"Sorry, I couldn't understand what you said.\")\n",
    "        return False\n",
    "    except sr.RequestError as e:\n",
    "        print(\"Sorry, there was an error connecting to the Google Web Speech API: {0}\".format(e))\n",
    "        return False\n",
    "\n",
    "# Main loop\n",
    "while True:\n",
    "    if recognize_passphrase():\n",
    "        break\n"
   ]
  },
  {
   "cell_type": "code",
   "execution_count": null,
   "id": "4845c04d",
   "metadata": {},
   "outputs": [],
   "source": []
  }
 ],
 "metadata": {
  "kernelspec": {
   "display_name": "Python 3 (ipykernel)",
   "language": "python",
   "name": "python3"
  },
  "language_info": {
   "codemirror_mode": {
    "name": "ipython",
    "version": 3
   },
   "file_extension": ".py",
   "mimetype": "text/x-python",
   "name": "python",
   "nbconvert_exporter": "python",
   "pygments_lexer": "ipython3",
   "version": "3.10.9"
  }
 },
 "nbformat": 4,
 "nbformat_minor": 5
}
