{
 "cells": [
  {
   "cell_type": "code",
   "execution_count": 8,
   "id": "acee9aed",
   "metadata": {},
   "outputs": [],
   "source": [
    "import cv2\n",
    "import numpy as np\n",
    "\n",
    "# Load the image containing an iris\n",
    "image_path = r'C:\\Users\\lenovo\\Downloads\\iris_image.jpg'\n",
    "\n",
    "# Attempt to read the image\n",
    "iris_image = cv2.imread(image_path)\n",
    "\n",
    "# Check if the image was successfully loaded\n",
    "if iris_image is not None:\n",
    "    # Convert the image to grayscale\n",
    "    gray = cv2.cvtColor(iris_image, cv2.COLOR_BGR2GRAY)\n",
    "\n",
    "    # Apply Gaussian blur to reduce noise and enhance edges\n",
    "    blurred = cv2.GaussianBlur(gray, (5, 5), 0)\n",
    "\n",
    "    # Use the Hough Circle Transform to detect circles (iris)\n",
    "    circles = cv2.HoughCircles(\n",
    "        blurred,\n",
    "        cv2.HOUGH_GRADIENT,\n",
    "        dp=1,\n",
    "        minDist=30,\n",
    "        param1=50,\n",
    "        param2=30,\n",
    "        minRadius=10,\n",
    "        maxRadius=100\n",
    "    )\n",
    "\n",
    "    if circles is not None:\n",
    "        circles = np.uint16(np.around(circles))\n",
    "\n",
    "        for circle in circles[0, :]:\n",
    "            x, y, r = circle\n",
    "            # Draw the outer circle\n",
    "            cv2.circle(iris_image, (x, y), r, (0, 255, 0), 2)\n",
    "            # Draw a small circle at the center\n",
    "            cv2.circle(iris_image, (x, y), 2, (0, 0, 255), 3)\n",
    "\n",
    "        # Display the image with iris detection\n",
    "        cv2.imshow('Iris Detection', iris_image)\n",
    "        cv2.waitKey(0)\n",
    "        cv2.destroyAllWindows()\n",
    "    else:\n",
    "        print(\"Iris not detected.\")\n",
    "else:\n",
    "    print(f\"Failed to load the image at '{image_path}'. Make sure the file exists and is a valid image format.\")\n"
   ]
  }
 ],
 "metadata": {
  "kernelspec": {
   "display_name": "Python 3 (ipykernel)",
   "language": "python",
   "name": "python3"
  },
  "language_info": {
   "codemirror_mode": {
    "name": "ipython",
    "version": 3
   },
   "file_extension": ".py",
   "mimetype": "text/x-python",
   "name": "python",
   "nbconvert_exporter": "python",
   "pygments_lexer": "ipython3",
   "version": "3.10.9"
  }
 },
 "nbformat": 4,
 "nbformat_minor": 5
}
